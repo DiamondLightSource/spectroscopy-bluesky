{
 "cells": [
  {
   "cell_type": "markdown",
   "metadata": {},
   "source": [
    "# Test Notebook\n",
    "\n"
   ]
  },
  {
   "cell_type": "markdown",
   "metadata": {},
   "source": [
    "## Scatter Plot\n",
    "\n",
    "The following notebook uses matplotlib workflow to visualise data using matplotlib.\n"
   ]
  },
  {
   "cell_type": "code",
   "execution_count": null,
   "metadata": {},
   "outputs": [],
   "source": [
    "# This was sourced from https://jupyter.org/try-jupyter/notebooks/?path=notebooks/Intro.ipynb\n",
    "\n",
    "import os\n",
    "\n",
    "# Set environment variables\n",
    "os.environ[\"MPLCONFIGDIR\"] = \"/tmp/.config/matplotlib\"\n",
    "os.environ[\"IPYTHONDIR\"] = \"/tmp/.config/ipython\"\n",
    "os.environ[\"HOME\"] = \"/tmp\"\n",
    "\n",
    "# Ensure the directories exist\n",
    "os.makedirs(os.environ[\"MPLCONFIGDIR\"], exist_ok=True)\n",
    "os.makedirs(os.environ[\"IPYTHONDIR\"], exist_ok=True)\n",
    "\n",
    "import numpy as np\n",
    "from matplotlib import pyplot as plt\n",
    "\n",
    "# Generate 100 random data points along 3 dimensions\n",
    "x, y, scale = np.random.randn(3, 100)\n",
    "fig, ax = plt.subplots()\n",
    "\n",
    "# Map each onto a scatterplot we'll create with Matplotlib\n",
    "ax.scatter(x=x, y=y, c=scale, s=np.abs(scale)*500)\n",
    "ax.set(title=\"Some random data, created with JupyterLab!\")\n",
    "plt.show()"
   ]
  }
 ],
 "metadata": {
  "kernelspec": {
   "display_name": "Python (Pyodide)",
   "language": "python",
   "name": "python"
  },
  "language_info": {
   "codemirror_mode": {
    "name": "python",
    "version": 3
   },
   "file_extension": ".py",
   "mimetype": "text/x-python",
   "name": "python",
   "nbconvert_exporter": "python",
   "pygments_lexer": "ipython3",
   "version": "3.8"
  }
 },
 "nbformat": 4,
 "nbformat_minor": 4
}
